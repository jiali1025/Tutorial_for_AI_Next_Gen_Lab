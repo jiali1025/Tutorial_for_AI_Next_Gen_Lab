{
 "cells": [
  {
   "cell_type": "markdown",
   "id": "51ca50f9-ed73-4e94-9483-578721050a32",
   "metadata": {},
   "source": [
    "Here is the forward prediction model for molecular graphs. As a results various graph models will be introduced"
   ]
  },
  {
   "cell_type": "code",
   "execution_count": null,
   "id": "9ff4fc8a-f4ce-47aa-8027-ae1201a54724",
   "metadata": {},
   "outputs": [],
   "source": []
  }
 ],
 "metadata": {
  "kernelspec": {
   "display_name": "Python 3",
   "language": "python",
   "name": "python3"
  },
  "language_info": {
   "codemirror_mode": {
    "name": "ipython",
    "version": 3
   },
   "file_extension": ".py",
   "mimetype": "text/x-python",
   "name": "python",
   "nbconvert_exporter": "python",
   "pygments_lexer": "ipython3",
   "version": "3.8.13"
  }
 },
 "nbformat": 4,
 "nbformat_minor": 5
}
